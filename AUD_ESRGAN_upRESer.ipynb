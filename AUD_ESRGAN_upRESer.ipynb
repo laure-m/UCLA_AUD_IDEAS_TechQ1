{
  "nbformat": 4,
  "nbformat_minor": 0,
  "metadata": {
    "colab": {
      "name": "AUD_ESRGAN_upRESer.ipynb",
      "provenance": [],
      "machine_shape": "hm",
      "authorship_tag": "ABX9TyN3+0aDaqKrUoSPMxB2Mw9I",
      "include_colab_link": true
    },
    "kernelspec": {
      "name": "python3",
      "display_name": "Python 3"
    },
    "language_info": {
      "name": "python"
    },
    "accelerator": "GPU"
  },
  "cells": [
    {
      "cell_type": "markdown",
      "metadata": {
        "id": "view-in-github",
        "colab_type": "text"
      },
      "source": [
        "<a href=\"https://colab.research.google.com/github/laure-m/UCLA_AUD_IDEAS_TechQ1/blob/main/AUD_ESRGAN_upRESer.ipynb\" target=\"_parent\"><img src=\"https://colab.research.google.com/assets/colab-badge.svg\" alt=\"Open In Colab\"/></a>"
      ]
    },
    {
      "cell_type": "markdown",
      "metadata": {
        "id": "HJ1Ne1bXM6o_"
      },
      "source": [
        "# AUD.IDEAS.TECHNOLOGY.STUDIO upRES-er NOTEBOOK\n",
        "Use this colab to increase the resolution of images ran in VQGANCLIP or StyleTransfer from Studio     \n",
        "\n",
        "This coLab is based off of the original \"ESRGAN (new arch.) on Colab\" model found here:  https://github.com/xinntao/ESRGAN and curated by M. Ahabb (Ahabbscience Studio)     \n",
        "\n",
        "**IMPORTANT:** Read all text before running the cell as some directions can change parameters or might download to the incorrect folder \n",
        "Read the output of each cell after you run it > if you get an error or something didnt load or it cant find a folder or image then SOMETHING IS WRONG."
      ]
    },
    {
      "cell_type": "markdown",
      "metadata": {
        "id": "yssLksEKM9zg"
      },
      "source": [
        "#**PART 01 | THE SETUP**"
      ]
    },
    {
      "cell_type": "code",
      "metadata": {
        "cellView": "form",
        "id": "TF9ZRh9lNAYr"
      },
      "source": [
        "#@title **STEP 00:**  Mount to your Google Drive\n",
        "from google.colab import drive\n",
        "drive.mount('/content/drive')"
      ],
      "execution_count": null,
      "outputs": []
    },
    {
      "cell_type": "code",
      "metadata": {
        "id": "zLXjNvfeM1DY",
        "cellView": "form"
      },
      "source": [
        "#@title **STEP 01:** Change Directory + Download ESRGAN\n",
        "#@markdown you need to first create a folder named \"upRes-main\" in your Google Drive    \n",
        "\n",
        "#@markdown If you have already cloned this Repo then you will get a fatal notice saying it cannot download because it already exists.\n",
        "%cd //content/drive/MyDrive/upRes-main\n",
        "!git clone https://github.com/xinntao/ESRGAN"
      ],
      "execution_count": null,
      "outputs": []
    },
    {
      "cell_type": "markdown",
      "metadata": {
        "id": "tUi9ag3yNHNr"
      },
      "source": [
        "#**PART 02 | UPLOAD IMAGES + DOWNLOAD MODELS** "
      ]
    },
    {
      "cell_type": "code",
      "metadata": {
        "id": "TRwBsY1hNIrE",
        "cellView": "form"
      },
      "source": [
        "#@title **STEP 02:** Upload images from your computer\n",
        "#@markdown Remember to delete any old images in the LR folder before this step\n",
        "%cd /content/drive/MyDrive/upRes-main/ESRGAN/LR\n",
        "\n",
        "from google.colab import files\n",
        "uploaded = files.upload() \n",
        "for filename in uploaded.keys():\n",
        "  print('User uploaded file \"{name}\" with {length} bytes'.format(name=filename, length=len(uploaded[filename])))"
      ],
      "execution_count": null,
      "outputs": []
    },
    {
      "cell_type": "code",
      "metadata": {
        "id": "7m0ljpQWNKYk",
        "cellView": "form"
      },
      "source": [
        "#@title **STEP 03:** Download pretrained upResing models\n",
        "%cd /content/drive/MyDrive/upRes-main/ESRGAN\n",
        "import gdown\n",
        "print(\"Downloading pretrained models\")\n",
        "output1 = '/content/drive/MyDrive/upRes-main/ESRGAN/models/RRDB_ESRGAN_x4.pth'\n",
        "output2 = '/content/drive/MyDrive/upRes-main/ESRGAN/models/RRDB_PSNR_x4.pth'\n",
        "output3 = '/content/drive/MyDrive/upRes-main/ESRGAN/models/PPON_D.pth'\n",
        "output4 = '/content/drive/MyDrive/upRes-main/ESRGAN/models/PPON_G.pth'\n",
        "print ('Downloading RRDB_ESRGAN_x4.pth')\n",
        "gdown.download('https://drive.google.com/uc?id=1TPrz5QKd8DHHt1k8SRtm6tMiPjz_Qene', output1, quiet=True) \n",
        "print ('Downloading RRDB_PSNR_x4.pth')\n",
        "gdown.download('https://drive.google.com/uc?id=1pJ_T-V1dpb1ewoEra1TGSWl5e6H7M4NN', output2, quiet=True)\n",
        "print ('Downloading PPON_D.pth by Zheng Hui')\n",
        "gdown.download('https://drive.google.com/uc?id=1Fr5aKCD6mw6P-hI0BZr6My2gHNhtUk-V', output3, quiet=True) \n",
        "print ('Downloading PPON_G.pth by Zheng Hui')\n",
        "gdown.download('https://drive.google.com/uc?id=12uR3BSftNA0HDYiKda23GyAj_crpSjOm', output4, quiet=True)  "
      ],
      "execution_count": null,
      "outputs": []
    },
    {
      "cell_type": "markdown",
      "metadata": {
        "id": "v17R8pj6NNXX"
      },
      "source": [
        "#**PART 03 | CHOOSE A MODEL AND UPRES IT** "
      ]
    },
    {
      "cell_type": "code",
      "metadata": {
        "id": "uC-n_YUjNUQ9",
        "cellView": "form"
      },
      "source": [
        "#@title **STEP 04:** Upscale the images / frames \n",
        "%cd /content/drive/MyDrive/upRes-main/ESRGAN\n",
        "\n",
        "import os.path as osp\n",
        "import glob\n",
        "import cv2\n",
        "import numpy as np\n",
        "import torch\n",
        "import RRDBNet_arch as arch\n",
        "import requests\n",
        "import imageio\n",
        "import requests\n",
        "import warnings\n",
        "warnings.filterwarnings(\"ignore\")\n",
        "from google.colab import files\n",
        "\n",
        "Choose_device = \"cuda\"  #@param [\"cuda\",\"cpu\"]\n",
        "\n",
        "model_path = 'models/RRDB_ESRGAN_x4.pth' #@param ['models/RRDB_ESRGAN_x4.pth','models/RRDB_PSNR_x4.pth']  \n",
        "device = torch.device(Choose_device) \n",
        "\n",
        "\n",
        "test_img_folder = 'LR/*'\n",
        "\n",
        "model = arch.RRDBNet(3, 3, 64, 23, gc=32)\n",
        "model.load_state_dict(torch.load(model_path), strict=True)\n",
        "model.eval()\n",
        "model = model.to(device)\n",
        "\n",
        "print('Model path {:s}. \\nTesting...'.format(model_path))\n",
        "\n",
        "idx = 0\n",
        "for path in glob.glob(test_img_folder):\n",
        "    idx += 1\n",
        "    base = osp.splitext(osp.basename(path))[0]\n",
        "    print(idx, base)\n",
        "    # read images\n",
        "    img = cv2.imread(path, cv2.IMREAD_COLOR)\n",
        "    img = img * 1.0 / 255\n",
        "    img = torch.from_numpy(np.transpose(img[:, :, [2, 1, 0]], (2, 0, 1))).float()\n",
        "    img_LR = img.unsqueeze(0)\n",
        "    img_LR = img_LR.to(device)\n",
        "\n",
        "    with torch.no_grad():\n",
        "        output = model(img_LR).data.squeeze().float().cpu().clamp_(0, 1).numpy()\n",
        "    output = np.transpose(output[[2, 1, 0], :, :], (1, 2, 0))\n",
        "    output = (output * 255.0).round()\n",
        "    cv2.imwrite('results/{:s}.png'.format(base), output)"
      ],
      "execution_count": null,
      "outputs": []
    },
    {
      "cell_type": "code",
      "metadata": {
        "id": "E6s11mLzNW9f",
        "cellView": "form"
      },
      "source": [
        "#@title **STEP 05:** Make a ZIP file of the results\n",
        "\n",
        "!zip -r results.zip /content/drive/MyDrive/upRes-main/ESRGAN/results"
      ],
      "execution_count": null,
      "outputs": []
    },
    {
      "cell_type": "code",
      "metadata": {
        "id": "3aMF18heNYU1",
        "cellView": "form"
      },
      "source": [
        "#@title **STEP 06:** Download the ZIP file\n",
        "#@markdown You can also just manually download the results folder\n",
        "files.download('results.zip')"
      ],
      "execution_count": null,
      "outputs": []
    },
    {
      "cell_type": "markdown",
      "metadata": {
        "id": "YOfyDOHxNZ51"
      },
      "source": [
        "This notebook was put together by Laure Michelon at https://github.com/laure-m"
      ]
    }
  ]
}