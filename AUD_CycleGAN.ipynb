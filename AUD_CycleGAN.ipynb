{
  "nbformat": 4,
  "nbformat_minor": 0,
  "metadata": {
    "colab": {
      "name": "AUD_CycleGAN.ipynb",
      "provenance": [],
      "authorship_tag": "ABX9TyNROt+3p2WSRnciW3K8hV69",
      "include_colab_link": true
    },
    "kernelspec": {
      "name": "python3",
      "display_name": "Python 3"
    },
    "language_info": {
      "name": "python"
    }
  },
  "cells": [
    {
      "cell_type": "markdown",
      "metadata": {
        "id": "view-in-github",
        "colab_type": "text"
      },
      "source": [
        "<a href=\"https://colab.research.google.com/github/laure-m/UCLA_AUD_IDEAS_TechQ1/blob/main/AUD_CycleGAN.ipynb\" target=\"_parent\"><img src=\"https://colab.research.google.com/assets/colab-badge.svg\" alt=\"Open In Colab\"/></a>"
      ]
    },
    {
      "cell_type": "markdown",
      "metadata": {
        "id": "TSNUGM5jPOHU"
      },
      "source": [
        "#UCLA.AUD.IDEAS TECHNOLOGY STUDIO - **CYCLEGAN NOTEBOOK**"
      ]
    },
    {
      "cell_type": "markdown",
      "metadata": {
        "id": "Pth6YBIKPQzN"
      },
      "source": [
        "**IMPORTANT:** Read all text before running the cell as some directions can change parameters or might download to the incorrect folder \n",
        "Read the output of each cell after you run it > if you get an error or something didnt load or it cant find a folder or image then SOMETHING IS WRONG. "
      ]
    },
    {
      "cell_type": "markdown",
      "metadata": {
        "id": "mD09kgnRP1yh"
      },
      "source": [
        "#**PART 01 - THE SETUP**"
      ]
    },
    {
      "cell_type": "code",
      "metadata": {
        "cellView": "form",
        "id": "a7IoYCowPJSg"
      },
      "source": [
        "#@title **STEP 00:**  Check your equipment\n",
        "!nvidia-smi"
      ],
      "execution_count": null,
      "outputs": []
    },
    {
      "cell_type": "code",
      "metadata": {
        "cellView": "form",
        "id": "XjJa9AvXQETJ"
      },
      "source": [
        "#@title **STEP 01:**  Mount to your Google Drive\n",
        "from google.colab import drive\n",
        "drive.mount('/content/drive')"
      ],
      "execution_count": null,
      "outputs": []
    },
    {
      "cell_type": "code",
      "metadata": {
        "cellView": "form",
        "id": "UoOuCNF2QL-p"
      },
      "source": [
        "#@title **STEP 01-B:**  Copy the GitHub \n",
        "#@markdown *ONLY RUN THIS THE FIRST TIME THAT YOU USE THIS NOTEBOOK*         \n",
        "\n",
        "#@markdown If you re-run it after you already have it - it might give you an error or might try to double download\n",
        "%cd /content/drive/MyDrive\n",
        "!mkdir colabCycleGan\n",
        "%cd colabCycleGan\n",
        "!git clone https://github.com/laure-m/ColabCycleGan"
      ],
      "execution_count": null,
      "outputs": []
    },
    {
      "cell_type": "code",
      "metadata": {
        "cellView": "form",
        "id": "kfmpj58LQOG8"
      },
      "source": [
        "#@title **STEP 02:**  Change to the cyclegan directory\n",
        "%cd /content/drive/MyDrive/colabCycleGan/ColabCycleGan/CycleGAN-tensorflow-master"
      ],
      "execution_count": null,
      "outputs": []
    },
    {
      "cell_type": "code",
      "metadata": {
        "cellView": "form",
        "id": "Voe6FJpfQQ7k"
      },
      "source": [
        "#@title **STEP 03:**  Create a dataset folder\n",
        "#@markdown If you already have a \"datasets\" folder you will get the below error (and thats fine)      \n",
        "\n",
        "#@markdown *mkdir: cannot create directory ‘datasets’: File exists* \n",
        "!mkdir datasets"
      ],
      "execution_count": null,
      "outputs": []
    },
    {
      "cell_type": "code",
      "metadata": {
        "cellView": "form",
        "id": "VsgASnUcQWFJ"
      },
      "source": [
        "#@title **STEP 04:**  Set Tensorflow to 1.15\n",
        "%tensorflow_version 1.x"
      ],
      "execution_count": null,
      "outputs": []
    },
    {
      "cell_type": "markdown",
      "metadata": {
        "id": "F8SwxkCmQiNl"
      },
      "source": [
        "#**PART 02 - ! ! ! ! DANGER ZONE ! ! ! !**"
      ]
    },
    {
      "cell_type": "code",
      "metadata": {
        "cellView": "form",
        "id": "Ntnsdo0pQpPs"
      },
      "source": [
        "#@title **STEP 05:**  *START TRAINING* - This starts a new train and if you have already been training, it will overwrite anything you have done. **Only run this cell to start a new train**\n",
        "!python main.py --dataset_dir=seaweed01"
      ],
      "execution_count": null,
      "outputs": []
    },
    {
      "cell_type": "code",
      "metadata": {
        "cellView": "form",
        "id": "dKj_tJ9uQq74"
      },
      "source": [
        "#@title **STEP 06:** *CONTINUE TRAINING* - Use this to restart a train from an existing checkpoint\n",
        "!python main.py --dataset_dir==seaweed01 --continue_train=true"
      ],
      "execution_count": null,
      "outputs": []
    },
    {
      "cell_type": "code",
      "metadata": {
        "cellView": "form",
        "id": "q09PJoZlQsfE"
      },
      "source": [
        "#@title **STEP 07:** *TEST* - Once your network is trained - Run this cell to test your images\n",
        "!python main.py --dataset_dir==seaweed01 --phase=test --which_direction=AtoB"
      ],
      "execution_count": null,
      "outputs": []
    },
    {
      "cell_type": "markdown",
      "metadata": {
        "id": "JPSZq78aQv9N"
      },
      "source": [
        "Download the test folder and run it through the processing script named imageCombineAlpha!!!\n",
        "\n",
        "\n",
        "\n",
        "This coLab is built by Laure Michelon and is meant to be used by students in theUCLA AUD IDEAS Technology Students"
      ]
    }
  ]
}